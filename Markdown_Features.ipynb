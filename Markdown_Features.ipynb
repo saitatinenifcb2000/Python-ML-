{
 "cells": [
  {
   "cell_type": "markdown",
   "metadata": {},
   "source": [
    "# Markdown, LaTeX Equations"
   ]
  },
  {
   "cell_type": "markdown",
   "metadata": {},
   "source": [
    "## Markdown Cells"
   ]
  },
  {
   "cell_type": "markdown",
   "metadata": {},
   "source": [
    "Markdown is used for formatting text cells. \n",
    "\n",
    "* [Wikipedia page](https://en.wikipedia.org)\n",
    "* [Official website](http://daringfireball.net)\n",
    "    \n",
    "Double click on the markdown cells in this document (including this cell) for examples.\n",
    "    \n",
    "Make new paragraphs with empty lines. \n",
    "\n",
    "Make new lines when the line above has at least two trailing spaces.\n",
    "    \n",
    "You can put raw html in markdown cells if you want.\n",
    "    \n",
    "You can insert images, pdf files, etc. into the document.\n",
    "    \n",
    "Make horizontal lines with three or more dashes, or underscores, or asterisks:"
   ]
  },
  {
   "cell_type": "markdown",
   "metadata": {},
   "source": [
    "# Heading\n",
    "    \n",
    "## Subheading\n",
    "    \n",
    "### Subsubheading\n",
    "    \n",
    "#### etc"
   ]
  },
  {
   "cell_type": "markdown",
   "metadata": {},
   "source": [
    "## Make a list like this:\n",
    "* Item one (note the space after the *)\"\n",
    "* Item two (note the symbol becomes a circle)\"\n",
    "    * Sub-bullet 1 (note the sub-bullet is a square)\"\n",
    "    * Sub-bullet 2\n",
    "    * Sub-bullet 3 (the sub-sub-bullet is an open circle)\""
   ]
  },
  {
   "cell_type": "markdown",
   "metadata": {},
   "source": [
    "## Here is a numbered list:\n",
    "1. Item 1\n",
    "1. Item 2\n",
    "    1. Sub-item    ( the \\\"1.\\\" in the code becomes \\\"A.\\\" in output)\n",
    "    1. Sub-item\n",
    "          1. Sub-Sub-item (The \\\"1.\\\" becomes \\\"a.\\\" in output)"
   ]
  },
  {
   "cell_type": "markdown",
   "metadata": {},
   "source": [
    "#### Make hyperlinks like this ```[Link text](http://somesite.com)```\n",
    "\n",
    "For example: [Google it](http://www.google.com)"
   ]
  },
  {
   "cell_type": "markdown",
   "metadata": {},
   "source": [
    "### Bold, Italic, Colored Text"
   ]
  },
  {
   "cell_type": "markdown",
   "metadata": {},
   "source": [
    "Here is how to make **colored** text:\n",
    "* For example: ```<font color='green'>This is colored</font>```\n",
    "* For example: <font color='green'>This is colored</font>\n",
    "   \n",
    "***Italicize*** text between ```*'s: *This will be italic*``` \n",
    "* That is: *This is italic*\n",
    "    \n",
    "**Bold** text between ```**'s: **This will be bold**```\n",
    "* That is: **This is bold**\n",
    "    \n",
    "No markdown for underline use html tags instead: ```<u>This will be underlined</u>```\n",
    "* That is <u>This will be underlined</u>"
   ]
  },
  {
   "cell_type": "markdown",
   "metadata": {},
   "source": [
    "### Images\n",
    "\n",
    "Images can be inserted with this ```![alt text](my_image.png)```\n",
    "    \n",
    "But in Jupyter html is much more flexible ```<img src=my_image.png width=300>```\n",
    "    \n",
    "<img src=https://images-na.ssl-images-amazon.com/images/I/41Ja%2Bk-2cpL._AC_.jpg width=500>\n",
    "    \n",
    "* You can include local pictures or pictures on a website.\n",
    "* This is convenient for sharing your notebooks."
   ]
  },
  {
   "cell_type": "code",
   "execution_count": null,
   "metadata": {},
   "outputs": [],
   "source": []
  }
 ],
 "metadata": {
  "kernelspec": {
   "display_name": "Python 3",
   "language": "python",
   "name": "python3"
  },
  "language_info": {
   "codemirror_mode": {
    "name": "ipython",
    "version": 3
   },
   "file_extension": ".py",
   "mimetype": "text/x-python",
   "name": "python",
   "nbconvert_exporter": "python",
   "pygments_lexer": "ipython3",
   "version": "3.8.5"
  }
 },
 "nbformat": 4,
 "nbformat_minor": 2
}
